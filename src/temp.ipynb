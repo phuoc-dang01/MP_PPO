{
 "cells": [
  {
   "cell_type": "code",
   "execution_count": 2,
   "metadata": {},
   "outputs": [],
   "source": [
    "import random\n",
    "import numpy as np"
   ]
  },
  {
   "cell_type": "code",
   "execution_count": 1,
   "metadata": {},
   "outputs": [],
   "source": [
    "ACTION_TABLE = {\n",
    "    0: [0, 0, 0, 0],\n",
    "    1: [0, 0, 0, 1]\n",
    "}"
   ]
  },
  {
   "cell_type": "code",
   "execution_count": 3,
   "metadata": {},
   "outputs": [
    {
     "data": {
      "text/plain": [
       "<function numpy.zeros>"
      ]
     },
     "execution_count": 3,
     "metadata": {},
     "output_type": "execute_result"
    }
   ],
   "source": [
    "np.zeros"
   ]
  },
  {
   "cell_type": "code",
   "execution_count": 4,
   "metadata": {},
   "outputs": [
    {
     "data": {
      "text/plain": [
       "array([[0, 3, 4, 6, 9, 6, 9, 0],\n",
       "       [4, 5, 2, 9, 2, 6, 3, 1],\n",
       "       [7, 9, 0, 0, 0, 3, 7, 5],\n",
       "       [1, 4, 5, 1, 9, 2, 3, 8]])"
      ]
     },
     "execution_count": 4,
     "metadata": {},
     "output_type": "execute_result"
    }
   ],
   "source": [
    "_size = [4,8]\n",
    "\n",
    "# For random integers between 0 and 9\n",
    "random_int_array = np.random.randint(0, 10, size=_size)\n",
    "random_int_array"
   ]
  },
  {
   "cell_type": "code",
   "execution_count": 42,
   "metadata": {},
   "outputs": [
    {
     "data": {
      "text/plain": [
       "array([[6, 4, 8, 1, 5, 4, 2, 9]])"
      ]
     },
     "execution_count": 42,
     "metadata": {},
     "output_type": "execute_result"
    }
   ],
   "source": [
    "random_int_array[0:1, :]"
   ]
  },
  {
   "cell_type": "code",
   "execution_count": 5,
   "metadata": {},
   "outputs": [
    {
     "data": {
      "text/plain": [
       "array([[1, 4, 5, 1, 9, 2, 3, 8],\n",
       "       [0, 3, 4, 6, 9, 6, 9, 0],\n",
       "       [4, 5, 2, 9, 2, 6, 3, 1],\n",
       "       [7, 9, 0, 0, 0, 3, 7, 5]])"
      ]
     },
     "execution_count": 5,
     "metadata": {},
     "output_type": "execute_result"
    }
   ],
   "source": [
    "np.roll(random_int_array, 1, axis=0)"
   ]
  }
 ],
 "metadata": {
  "kernelspec": {
   "display_name": "penpen",
   "language": "python",
   "name": "python3"
  },
  "language_info": {
   "codemirror_mode": {
    "name": "ipython",
    "version": 3
   },
   "file_extension": ".py",
   "mimetype": "text/x-python",
   "name": "python",
   "nbconvert_exporter": "python",
   "pygments_lexer": "ipython3",
   "version": "3.9.16"
  }
 },
 "nbformat": 4,
 "nbformat_minor": 2
}
