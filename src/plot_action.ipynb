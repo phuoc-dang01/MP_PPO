{
 "cells": [
  {
   "cell_type": "code",
   "execution_count": 51,
   "metadata": {},
   "outputs": [],
   "source": [
    "import pandas as pd\n",
    "from glob import glob\n",
    "import matplotlib.pyplot as plt\n",
    "\n",
    "import os"
   ]
  },
  {
   "cell_type": "code",
   "execution_count": 35,
   "metadata": {},
   "outputs": [
    {
     "data": {
      "text/plain": [
       "'./test_results/log_sim_ppo_norway_train_2'"
      ]
     },
     "execution_count": 35,
     "metadata": {},
     "output_type": "execute_result"
    }
   ],
   "source": [
    "test_file = glob(\"./test_results/*\")\n",
    "test_file[0]"
   ]
  },
  {
   "cell_type": "code",
   "execution_count": 14,
   "metadata": {},
   "outputs": [],
   "source": [
    "file_schema = test_file[0]"
   ]
  },
  {
   "cell_type": "code",
   "execution_count": 42,
   "metadata": {},
   "outputs": [],
   "source": [
    "def read_test_file(file_schema):\n",
    "    with open(file_schema, \"r\") as f:\n",
    "        time_stamp, action, buffer_size, rebuf, chunk_size_1, chunk_size_2, delay, entropy, reward = [], [], [], [], [], [], [], [], []\n",
    "        for line in f:            \n",
    "            sp = line.split()\n",
    "            if len(sp) > 1:\n",
    "                time_stamp.append(float(sp[0]))\n",
    "                action.append(int(sp[1]))\n",
    "                buffer_size.append(float(sp[2]))\n",
    "                rebuf.append(float(sp[3]))\n",
    "\n",
    "                # Process chunk_size with two components\n",
    "                chunk_size_str = sp[4].strip('()')\n",
    "                chunk_size_parts = [x for x in chunk_size_str.split(',') if x]  # Filter out empty strings\n",
    "                chunk_size_1.append(float(chunk_size_parts[0]) if chunk_size_parts else 0.0)\n",
    "                chunk_size_2.append(float(chunk_size_parts[1]) if len(chunk_size_parts) > 1 else 0.0)\n",
    "\n",
    "                delay.append(float(sp[6]))\n",
    "                entropy.append(float(sp[7]))\n",
    "                reward.append(float(sp[8]))\n",
    "\n",
    "        # Creating a DataFrame\n",
    "        data = {\n",
    "            'Time Stamp': time_stamp,\n",
    "            'Action': action,\n",
    "            'Buffer Size': buffer_size,\n",
    "            'Rebuffering': rebuf,\n",
    "            'Chunk Size 1': chunk_size_1,\n",
    "            'Chunk Size 2': chunk_size_2,\n",
    "            'Delay': delay,\n",
    "            'Entropy': entropy,\n",
    "            'Reward': reward\n",
    "        }\n",
    "    return pd.DataFrame(data)"
   ]
  },
  {
   "cell_type": "code",
   "execution_count": 45,
   "metadata": {},
   "outputs": [],
   "source": [
    "df = [read_test_file(_i) for _i in test_file]"
   ]
  },
  {
   "cell_type": "code",
   "execution_count": 49,
   "metadata": {},
   "outputs": [],
   "source": [
    "df_big = pd.concat(df, ignore_index=True).reset_index(drop=True)"
   ]
  },
  {
   "cell_type": "code",
   "execution_count": 53,
   "metadata": {},
   "outputs": [
    {
     "data": {
      "image/png": "[encoded data removed]",
      "text/plain": [
       "<Figure size 1000x600 with 1 Axes>"
      ]
     },
     "metadata": {},
     "output_type": "display_data"
    }
   ],
   "source": [
    "# Count occurrences of each action\n",
    "action_counts = df_big['Action'].value_counts().reindex(range(37), fill_value=0)\n",
    "\n",
    "# Plotting\n",
    "plt.figure(figsize=(10, 6))\n",
    "action_counts.plot(kind='bar')\n",
    "plt.xlabel('Action')\n",
    "plt.ylabel('Frequency')\n",
    "plt.title('Histogram of Actions')\n",
    "plt.xticks(range(37), rotation=0)  # Ensure all action numbers are shown\n",
    "plt.grid(axis='y')\n",
    "plt.show()\n"
   ]
  },
  {
   "cell_type": "code",
   "execution_count": 57,
   "metadata": {},
   "outputs": [
    {
     "data": {
      "text/plain": [
       "33    1000\n",
       "3       86\n",
       "1       28\n",
       "4        1\n",
       "2        1\n",
       "16       1\n",
       "19       1\n",
       "0        0\n",
       "5        0\n",
       "9        0\n",
       "10       0\n",
       "7        0\n",
       "6        0\n",
       "12       0\n",
       "11       0\n",
       "14       0\n",
       "13       0\n",
       "15       0\n",
       "17       0\n",
       "18       0\n",
       "8        0\n",
       "20       0\n",
       "21       0\n",
       "23       0\n",
       "22       0\n",
       "25       0\n",
       "26       0\n",
       "27       0\n",
       "24       0\n",
       "28       0\n",
       "29       0\n",
       "31       0\n",
       "30       0\n",
       "32       0\n",
       "34       0\n",
       "35       0\n",
       "36       0\n",
       "Name: Action, dtype: int64"
      ]
     },
     "execution_count": 57,
     "metadata": {},
     "output_type": "execute_result"
    }
   ],
   "source": [
    "sorted_action_counts = action_counts.sort_values(ascending=False)\n",
    "sorted_action_counts\n"
   ]
  }
 ],
 "metadata": {
  "kernelspec": {
   "display_name": "mgc",
   "language": "python",
   "name": "python3"
  },
  "language_info": {
   "codemirror_mode": {
    "name": "ipython",
    "version": 3
   },
   "file_extension": ".py",
   "mimetype": "text/x-python",
   "name": "python",
   "nbconvert_exporter": "python",
   "pygments_lexer": "ipython3",
   "version": "3.9.16"
  }
 },
 "nbformat": 4,
 "nbformat_minor": 2
}
